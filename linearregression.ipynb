{
 "cells": [
  {
   "cell_type": "code",
   "execution_count": 2,
   "metadata": {},
   "outputs": [],
   "source": [
    "import numpy as np\n",
    "import pandas as pd\n",
    "import matplotlib.pyplot as plt\n",
    "import seaborn as sns\n",
    "import warnings\n",
    "warnings.filterwarnings('ignore')"
   ]
  },
  {
   "cell_type": "code",
   "execution_count": 3,
   "metadata": {},
   "outputs": [],
   "source": [
    "dataset=pd.read_csv('sep1.csv')"
   ]
  },
  {
   "cell_type": "code",
   "execution_count": 4,
   "metadata": {},
   "outputs": [
    {
     "data": {
      "text/html": [
       "<div>\n",
       "<style scoped>\n",
       "    .dataframe tbody tr th:only-of-type {\n",
       "        vertical-align: middle;\n",
       "    }\n",
       "\n",
       "    .dataframe tbody tr th {\n",
       "        vertical-align: top;\n",
       "    }\n",
       "\n",
       "    .dataframe thead th {\n",
       "        text-align: right;\n",
       "    }\n",
       "</style>\n",
       "<table border=\"1\" class=\"dataframe\">\n",
       "  <thead>\n",
       "    <tr style=\"text-align: right;\">\n",
       "      <th></th>\n",
       "      <th>year</th>\n",
       "      <th>month</th>\n",
       "      <th>day</th>\n",
       "      <th>lat</th>\n",
       "      <th>lon</th>\n",
       "      <th>sm_50</th>\n",
       "    </tr>\n",
       "  </thead>\n",
       "  <tbody>\n",
       "    <tr>\n",
       "      <th>0</th>\n",
       "      <td>2019</td>\n",
       "      <td>8</td>\n",
       "      <td>28</td>\n",
       "      <td>34.82</td>\n",
       "      <td>-87.99</td>\n",
       "      <td>NaN</td>\n",
       "    </tr>\n",
       "    <tr>\n",
       "      <th>1</th>\n",
       "      <td>2019</td>\n",
       "      <td>8</td>\n",
       "      <td>28</td>\n",
       "      <td>33.53</td>\n",
       "      <td>-103.63</td>\n",
       "      <td>0.16</td>\n",
       "    </tr>\n",
       "    <tr>\n",
       "      <th>2</th>\n",
       "      <td>2019</td>\n",
       "      <td>8</td>\n",
       "      <td>28</td>\n",
       "      <td>33.63</td>\n",
       "      <td>-88.77</td>\n",
       "      <td>0.87</td>\n",
       "    </tr>\n",
       "    <tr>\n",
       "      <th>3</th>\n",
       "      <td>2019</td>\n",
       "      <td>8</td>\n",
       "      <td>28</td>\n",
       "      <td>29.10</td>\n",
       "      <td>-81.63</td>\n",
       "      <td>0.73</td>\n",
       "    </tr>\n",
       "    <tr>\n",
       "      <th>4</th>\n",
       "      <td>2019</td>\n",
       "      <td>8</td>\n",
       "      <td>28</td>\n",
       "      <td>36.57</td>\n",
       "      <td>-115.20</td>\n",
       "      <td>0.15</td>\n",
       "    </tr>\n",
       "  </tbody>\n",
       "</table>\n",
       "</div>"
      ],
      "text/plain": [
       "   year  month  day    lat     lon  sm_50\n",
       "0  2019      8   28  34.82  -87.99    NaN\n",
       "1  2019      8   28  33.53 -103.63   0.16\n",
       "2  2019      8   28  33.63  -88.77   0.87\n",
       "3  2019      8   28  29.10  -81.63   0.73\n",
       "4  2019      8   28  36.57 -115.20   0.15"
      ]
     },
     "execution_count": 4,
     "metadata": {},
     "output_type": "execute_result"
    }
   ],
   "source": [
    "dataset.head()"
   ]
  },
  {
   "cell_type": "code",
   "execution_count": 5,
   "metadata": {},
   "outputs": [
    {
     "data": {
      "text/plain": [
       "(787, 6)"
      ]
     },
     "execution_count": 5,
     "metadata": {},
     "output_type": "execute_result"
    }
   ],
   "source": [
    "dataset.shape"
   ]
  },
  {
   "cell_type": "code",
   "execution_count": 7,
   "metadata": {},
   "outputs": [
    {
     "data": {
      "text/plain": [
       "Index(['year', 'month', 'day', 'lat', 'lon', 'sm_50'], dtype='object')"
      ]
     },
     "execution_count": 7,
     "metadata": {},
     "output_type": "execute_result"
    }
   ],
   "source": [
    "dataset.columns"
   ]
  },
  {
   "cell_type": "code",
   "execution_count": 8,
   "metadata": {},
   "outputs": [
    {
     "data": {
      "text/plain": [
       "year     2019.000000\n",
       "month       8.000000\n",
       "day        28.000000\n",
       "lat        23.204963\n",
       "lon       -35.435598\n",
       "sm_50       0.485016\n",
       "dtype: float64"
      ]
     },
     "execution_count": 8,
     "metadata": {},
     "output_type": "execute_result"
    }
   ],
   "source": [
    "dataset.mean()"
   ]
  },
  {
   "cell_type": "code",
   "execution_count": 9,
   "metadata": {},
   "outputs": [],
   "source": [
    "dataset=dataset.fillna(dataset.mean())"
   ]
  },
  {
   "cell_type": "code",
   "execution_count": 11,
   "metadata": {},
   "outputs": [],
   "source": [
    "X = dataset.iloc[: , 3:5]\n",
    "y = dataset.iloc[: ,-1].values"
   ]
  },
  {
   "cell_type": "code",
   "execution_count": 12,
   "metadata": {},
   "outputs": [],
   "source": [
    "from sklearn.model_selection import train_test_split\n",
    "X_train, X_test, y_train, y_test=train_test_split(X,y,test_size=0.25, random_state = 0)"
   ]
  },
  {
   "cell_type": "code",
   "execution_count": 13,
   "metadata": {},
   "outputs": [],
   "source": [
    "from sklearn.linear_model import LinearRegression\n",
    "classifier = LinearRegression().fit(X_train, y_train)"
   ]
  },
  {
   "cell_type": "code",
   "execution_count": 14,
   "metadata": {},
   "outputs": [
    {
     "data": {
      "text/plain": [
       "array([0.50199241, 0.49358947, 0.5009137 , 0.43738118, 0.43657976,\n",
       "       0.50595156, 0.43789984, 0.50250445, 0.50525911, 0.50899602,\n",
       "       0.50046819, 0.50106537, 0.43897934, 0.43746749, 0.43749802,\n",
       "       0.43833847, 0.50263023, 0.50748735, 0.43517561, 0.43871938,\n",
       "       0.5011465 , 0.43701159, 0.4372158 , 0.53184183, 0.50687215,\n",
       "       0.50124464, 0.50159843, 0.49370128, 0.50691334, 0.49400614,\n",
       "       0.43934772, 0.44688836, 0.50301744, 0.49459838, 0.50256482,\n",
       "       0.43826696, 0.44520018, 0.50804204, 0.43869243, 0.43821956,\n",
       "       0.50296103, 0.4375131 , 0.49700206, 0.43691357, 0.52819793,\n",
       "       0.50179464, 0.50861248, 0.50244651, 0.43641092, 0.4374999 ,\n",
       "       0.51117019, 0.43548623, 0.50154013, 0.52222999, 0.50322451,\n",
       "       0.43843371, 0.5320648 , 0.43684317, 0.5023909 , 0.50063852,\n",
       "       0.43653424, 0.50168399, 0.43789393, 0.42760856, 0.48260712,\n",
       "       0.50205226, 0.52656062, 0.44018024, 0.43705847, 0.43731783,\n",
       "       0.43723969, 0.44557395, 0.43882596, 0.43791212, 0.43756928,\n",
       "       0.5010523 , 0.49274023, 0.50163579, 0.43743283, 0.50125023,\n",
       "       0.43783814, 0.44594949, 0.4376797 , 0.44680175, 0.4370376 ,\n",
       "       0.43804915, 0.50136999, 0.43526516, 0.4385359 , 0.50226239,\n",
       "       0.43856307, 0.43808319, 0.52713354, 0.51025304, 0.43812566,\n",
       "       0.44528963, 0.43652559, 0.50211639, 0.50179647, 0.49639644,\n",
       "       0.4976307 , 0.49615096, 0.49405906, 0.49591316, 0.43797912,\n",
       "       0.52474175, 0.49762134, 0.50086149, 0.43917024, 0.43778834,\n",
       "       0.43770589, 0.51479467, 0.50093842, 0.49608014, 0.4385905 ,\n",
       "       0.43792368, 0.43598753, 0.43490315, 0.43737681, 0.49393707,\n",
       "       0.49644881, 0.50150616, 0.43873578, 0.43718509, 0.4374322 ,\n",
       "       0.50108011, 0.43766476, 0.50085579, 0.50496053, 0.50195995,\n",
       "       0.43650123, 0.49774549, 0.50726421, 0.50115574, 0.50001203,\n",
       "       0.43657063, 0.50153889, 0.43909157, 0.50713267, 0.50792226,\n",
       "       0.5014862 , 0.50913085, 0.50240932, 0.49446505, 0.50219148,\n",
       "       0.50941599, 0.50493327, 0.50149522, 0.5018262 , 0.4371452 ,\n",
       "       0.49586407, 0.43622479, 0.5061703 , 0.50061024, 0.50144905,\n",
       "       0.50905409, 0.44566801, 0.50544042, 0.43704324, 0.42845354,\n",
       "       0.43927092, 0.50385085, 0.43771149, 0.50216615, 0.50910152,\n",
       "       0.50294428, 0.50580276, 0.52967765, 0.49386785, 0.50316899,\n",
       "       0.50150219, 0.43943268, 0.43865248, 0.50322491, 0.50140418,\n",
       "       0.43744275, 0.43783369, 0.43544137, 0.50207619, 0.43783588,\n",
       "       0.44475186, 0.43527032, 0.50137006, 0.43752277, 0.49617623,\n",
       "       0.43900357, 0.438058  , 0.50115542, 0.49734169, 0.42863669,\n",
       "       0.4378694 , 0.50209325, 0.5024097 , 0.50960709, 0.5048859 ,\n",
       "       0.49396038, 0.43841224])"
      ]
     },
     "execution_count": 14,
     "metadata": {},
     "output_type": "execute_result"
    }
   ],
   "source": [
    "y_predicted = classifier.predict(X_test)\n",
    "y_predicted"
   ]
  },
  {
   "cell_type": "code",
   "execution_count": 15,
   "metadata": {},
   "outputs": [
    {
     "name": "stdout",
     "output_type": "stream",
     "text": [
      "Mean squared error: 0.08\n"
     ]
    }
   ],
   "source": [
    "from sklearn.metrics import mean_squared_error, r2_score\n",
    "print(\"Mean squared error: %.2f\" % mean_squared_error(y_test, y_predicted))"
   ]
  }
 ],
 "metadata": {
  "kernelspec": {
   "display_name": "Python 3",
   "language": "python",
   "name": "python3"
  },
  "language_info": {
   "codemirror_mode": {
    "name": "ipython",
    "version": 3
   },
   "file_extension": ".py",
   "mimetype": "text/x-python",
   "name": "python",
   "nbconvert_exporter": "python",
   "pygments_lexer": "ipython3",
   "version": "3.6.9"
  }
 },
 "nbformat": 4,
 "nbformat_minor": 2
}
